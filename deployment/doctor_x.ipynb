{
 "cells": [
  {
   "cell_type": "code",
   "execution_count": 1,
   "metadata": {},
   "outputs": [],
   "source": [
    "import base64\n",
    "import numpy as np\n",
    "import io\n",
    "\n",
    "\n",
    "import tensorflow as tf\n",
    "from tensorflow import keras\n",
    "from tensorflow.keras.models import Sequential, load_model\n",
    "from keras.models import load_model\n",
    "from tensorflow.keras.preprocessing.image import ImageDataGenerator, img_to_array\n",
    "from keras.applications.densenet import DenseNet121\n",
    "from keras.layers import Dense, GlobalAveragePooling2D\n",
    "from keras.models import Model\n",
    "\n",
    "\n",
    "from PIL import Image\n",
    "\n",
    "from flask import request\n",
    "from flask import jsonify\n",
    "from flask import Flask"
   ]
  },
  {
   "cell_type": "code",
   "execution_count": 2,
   "metadata": {},
   "outputs": [],
   "source": [
    "app = Flask(__name__)\n"
   ]
  },
  {
   "cell_type": "code",
   "execution_count": 3,
   "metadata": {},
   "outputs": [],
   "source": [
    "labels = ['Cardiomegaly', \n",
    "          'Emphysema', \n",
    "          'Effusion', \n",
    "          'Hernia', \n",
    "          'Infiltration', \n",
    "          'Mass', \n",
    "          'Nodule', \n",
    "          'Atelectasis',\n",
    "          'Pneumothorax',\n",
    "          'Pleural_Thickening', \n",
    "          'Pneumonia', \n",
    "          'Fibrosis', \n",
    "          'Edema', \n",
    "          'Consolidation']"
   ]
  },
  {
   "cell_type": "code",
   "execution_count": 4,
   "metadata": {},
   "outputs": [
    {
     "name": "stdout",
     "output_type": "stream",
     "text": [
      " * Model loaded!\n"
     ]
    }
   ],
   "source": [
    "def get_model():\n",
    "    global model\n",
    "    # create the base pre-trained model\n",
    "    base_model = DenseNet121(weights='./models/densenet.hdf5', include_top=False)\n",
    "\n",
    "    x = base_model.output\n",
    "\n",
    "    # add a global spatial average pooling layer\n",
    "    x = GlobalAveragePooling2D()(x)\n",
    "\n",
    "    # and a logistic layer\n",
    "    predictions = Dense(len(labels), activation=\"sigmoid\")(x)\n",
    "\n",
    "    model = Model(inputs=base_model.input, outputs=predictions)\n",
    "    print(\" * Model loaded!\")\n",
    "get_model()"
   ]
  },
  {
   "cell_type": "code",
   "execution_count": 5,
   "metadata": {},
   "outputs": [],
   "source": [
    "\n",
    "def load_image(img, preprocess=True, H=320, W=320):\n",
    "    \"\"\"Load and preprocess image.\"\"\"\n",
    "   \n",
    "    x = image.load_img(img, target_size=(H, W))\n",
    "    if preprocess:\n",
    "        x = np.array(x)\n",
    "        mean = x.mean()\n",
    "        std = x.std()\n",
    "        x = x-mean\n",
    "        x = x/std\n",
    "        x = np.expand_dims(x, axis=0)\n",
    "    \n",
    "    return x    "
   ]
  },
  {
   "cell_type": "code",
   "execution_count": 6,
   "metadata": {},
   "outputs": [],
   "source": [
    "@app.route(\"/predict\", methods=[\"POST\"])\n",
    "def predict():\n",
    "    #getting image from api\n",
    "    message = request.get_json(force=True)\n",
    "    #change the image from base64 format to image format\n",
    "    encoded = message['image']\n",
    "    decoded = base64.b64decode(encoded)\n",
    "    image = Image.open(io.BytesIO(decoded))\n",
    "    \n",
    "    processed_image = load_image(image)\n",
    "\n",
    "    prediction = model.predict(processed_image)\n",
    "    \n",
    "    preds = {}\n",
    "    for value in prediction[0]:\n",
    "        for key in labels:\n",
    "            preds[key] = value\n",
    "            labels.remove(key)\n",
    "            break\n",
    "    response = preds\n",
    "    return jsonify(response)"
   ]
  },
  {
   "cell_type": "code",
   "execution_count": null,
   "metadata": {},
   "outputs": [],
   "source": []
  }
 ],
 "metadata": {
  "kernelspec": {
   "display_name": "Python 3",
   "language": "python",
   "name": "python3"
  },
  "language_info": {
   "codemirror_mode": {
    "name": "ipython",
    "version": 3
   },
   "file_extension": ".py",
   "mimetype": "text/x-python",
   "name": "python",
   "nbconvert_exporter": "python",
   "pygments_lexer": "ipython3",
   "version": "3.7.6"
  }
 },
 "nbformat": 4,
 "nbformat_minor": 4
}
